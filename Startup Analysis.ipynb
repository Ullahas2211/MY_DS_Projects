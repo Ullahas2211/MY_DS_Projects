{
 "cells": [
  {
   "cell_type": "markdown",
   "id": "d0f2b306",
   "metadata": {},
   "source": [
    "# Startup Analysis"
   ]
  },
  {
   "cell_type": "code",
   "execution_count": 2,
   "id": "4850c0d8",
   "metadata": {},
   "outputs": [
    {
     "data": {
      "text/html": [
       "<div>\n",
       "<style scoped>\n",
       "    .dataframe tbody tr th:only-of-type {\n",
       "        vertical-align: middle;\n",
       "    }\n",
       "\n",
       "    .dataframe tbody tr th {\n",
       "        vertical-align: top;\n",
       "    }\n",
       "\n",
       "    .dataframe thead th {\n",
       "        text-align: right;\n",
       "    }\n",
       "</style>\n",
       "<table border=\"1\" class=\"dataframe\">\n",
       "  <thead>\n",
       "    <tr style=\"text-align: right;\">\n",
       "      <th></th>\n",
       "      <th>RND</th>\n",
       "      <th>ADMIN</th>\n",
       "      <th>MKT</th>\n",
       "      <th>STATE</th>\n",
       "      <th>PROFIT</th>\n",
       "    </tr>\n",
       "  </thead>\n",
       "  <tbody>\n",
       "    <tr>\n",
       "      <th>0</th>\n",
       "      <td>165349.20</td>\n",
       "      <td>136897.80</td>\n",
       "      <td>471784.10</td>\n",
       "      <td>New York</td>\n",
       "      <td>192261.83</td>\n",
       "    </tr>\n",
       "    <tr>\n",
       "      <th>1</th>\n",
       "      <td>162597.70</td>\n",
       "      <td>151377.59</td>\n",
       "      <td>443898.53</td>\n",
       "      <td>California</td>\n",
       "      <td>191792.06</td>\n",
       "    </tr>\n",
       "    <tr>\n",
       "      <th>2</th>\n",
       "      <td>153441.51</td>\n",
       "      <td>101145.55</td>\n",
       "      <td>407934.54</td>\n",
       "      <td>Florida</td>\n",
       "      <td>191050.39</td>\n",
       "    </tr>\n",
       "    <tr>\n",
       "      <th>3</th>\n",
       "      <td>144372.41</td>\n",
       "      <td>118671.85</td>\n",
       "      <td>383199.62</td>\n",
       "      <td>New York</td>\n",
       "      <td>182901.99</td>\n",
       "    </tr>\n",
       "    <tr>\n",
       "      <th>4</th>\n",
       "      <td>142107.34</td>\n",
       "      <td>91391.77</td>\n",
       "      <td>366168.42</td>\n",
       "      <td>Florida</td>\n",
       "      <td>166187.94</td>\n",
       "    </tr>\n",
       "  </tbody>\n",
       "</table>\n",
       "</div>"
      ],
      "text/plain": [
       "         RND      ADMIN        MKT       STATE     PROFIT\n",
       "0  165349.20  136897.80  471784.10    New York  192261.83\n",
       "1  162597.70  151377.59  443898.53  California  191792.06\n",
       "2  153441.51  101145.55  407934.54     Florida  191050.39\n",
       "3  144372.41  118671.85  383199.62    New York  182901.99\n",
       "4  142107.34   91391.77  366168.42     Florida  166187.94"
      ]
     },
     "execution_count": 2,
     "metadata": {},
     "output_type": "execute_result"
    }
   ],
   "source": [
    "from warnings import filterwarnings\n",
    "filterwarnings(\"ignore\")\n",
    "import pandas as pd \n",
    "A=pd.read_csv(\"c:/Users/ullah/Desktop/50_Startups.csv\")\n",
    "A.head()"
   ]
  },
  {
   "cell_type": "code",
   "execution_count": 5,
   "id": "ac170ca2",
   "metadata": {},
   "outputs": [
    {
     "data": {
      "text/plain": [
       "RND       0\n",
       "ADMIN     0\n",
       "MKT       0\n",
       "STATE     0\n",
       "PROFIT    0\n",
       "dtype: int64"
      ]
     },
     "execution_count": 5,
     "metadata": {},
     "output_type": "execute_result"
    }
   ],
   "source": [
    "A.isna().sum()"
   ]
  },
  {
   "cell_type": "code",
   "execution_count": 6,
   "id": "b31e8729",
   "metadata": {},
   "outputs": [
    {
     "data": {
      "text/plain": [
       "RND       0.164002\n",
       "ADMIN    -0.489025\n",
       "MKT      -0.046472\n",
       "PROFIT    0.023291\n",
       "dtype: float64"
      ]
     },
     "execution_count": 6,
     "metadata": {},
     "output_type": "execute_result"
    }
   ],
   "source": [
    "A.skew() # very minute skew in data"
   ]
  },
  {
   "cell_type": "code",
   "execution_count": 7,
   "id": "9345de65",
   "metadata": {},
   "outputs": [
    {
     "data": {
      "text/html": [
       "<div>\n",
       "<style scoped>\n",
       "    .dataframe tbody tr th:only-of-type {\n",
       "        vertical-align: middle;\n",
       "    }\n",
       "\n",
       "    .dataframe tbody tr th {\n",
       "        vertical-align: top;\n",
       "    }\n",
       "\n",
       "    .dataframe thead th {\n",
       "        text-align: right;\n",
       "    }\n",
       "</style>\n",
       "<table border=\"1\" class=\"dataframe\">\n",
       "  <thead>\n",
       "    <tr style=\"text-align: right;\">\n",
       "      <th></th>\n",
       "      <th>PROFIT</th>\n",
       "    </tr>\n",
       "  </thead>\n",
       "  <tbody>\n",
       "    <tr>\n",
       "      <th>RND</th>\n",
       "      <td>0.972900</td>\n",
       "    </tr>\n",
       "    <tr>\n",
       "      <th>ADMIN</th>\n",
       "      <td>0.200717</td>\n",
       "    </tr>\n",
       "    <tr>\n",
       "      <th>MKT</th>\n",
       "      <td>0.747766</td>\n",
       "    </tr>\n",
       "    <tr>\n",
       "      <th>PROFIT</th>\n",
       "      <td>1.000000</td>\n",
       "    </tr>\n",
       "  </tbody>\n",
       "</table>\n",
       "</div>"
      ],
      "text/plain": [
       "          PROFIT\n",
       "RND     0.972900\n",
       "ADMIN   0.200717\n",
       "MKT     0.747766\n",
       "PROFIT  1.000000"
      ]
     },
     "execution_count": 7,
     "metadata": {},
     "output_type": "execute_result"
    }
   ],
   "source": [
    "A.corr()[[\"PROFIT\"]]"
   ]
  },
  {
   "cell_type": "code",
   "execution_count": 19,
   "id": "2c5ef4a3",
   "metadata": {},
   "outputs": [
    {
     "name": "stdout",
     "output_type": "stream",
     "text": [
      "MAE: 6273.34\n",
      "Rsqured: 0.95\n"
     ]
    }
   ],
   "source": [
    "Y=A[[\"PROFIT\"]]\n",
    "X=A[[\"RND\"]]\n",
    "\n",
    "from sklearn.model_selection import train_test_split\n",
    "xtrain,xtest,ytrain,ytest=train_test_split(X,Y,test_size=0.2,random_state=31)\n",
    "\n",
    "from sklearn.linear_model import LinearRegression\n",
    "lm=LinearRegression()\n",
    "model=lm.fit(xtrain,ytrain)\n",
    "pred=model.predict(xtest)\n",
    "\n",
    "from sklearn.metrics import mean_absolute_error,r2_score\n",
    "print(\"MAE:\",round(mean_absolute_error(ytest,pred),2))\n",
    "print(\"Rsqured:\",round(r2_score(ytest,pred),2))"
   ]
  },
  {
   "cell_type": "code",
   "execution_count": 58,
   "id": "105d6759",
   "metadata": {},
   "outputs": [
    {
     "data": {
      "text/plain": [
       "48948.409956321666"
      ]
     },
     "execution_count": 58,
     "metadata": {},
     "output_type": "execute_result"
    }
   ],
   "source": [
    "model.intercept_[0] "
   ]
  },
  {
   "cell_type": "code",
   "execution_count": 59,
   "id": "f5f78497",
   "metadata": {},
   "outputs": [
    {
     "data": {
      "text/plain": [
       "array([0.86253226])"
      ]
     },
     "execution_count": 59,
     "metadata": {},
     "output_type": "execute_result"
    }
   ],
   "source": [
    "model.coef_[0]"
   ]
  },
  {
   "cell_type": "code",
   "execution_count": 60,
   "id": "d3afe73f",
   "metadata": {},
   "outputs": [],
   "source": [
    "b0=model.intercept_[0]\n",
    "b1=model.coef_[0][0]"
   ]
  },
  {
   "cell_type": "code",
   "execution_count": 64,
   "id": "8f84f988",
   "metadata": {},
   "outputs": [],
   "source": [
    "testdata=pd.DataFrame([xtest.RND]).T\n",
    "testdata[\"Y_intercept\"]=b0\n",
    "testdata[\"slop\"]=b1\n",
    "testdata[\"Actual_PROFIT\"]=ytest.PROFIT\n",
    "testdata[\"pred_PROFIT\"]=b0+b1*testdata.RND"
   ]
  },
  {
   "cell_type": "code",
   "execution_count": 63,
   "id": "e39171c6",
   "metadata": {},
   "outputs": [
    {
     "data": {
      "text/html": [
       "<div>\n",
       "<style scoped>\n",
       "    .dataframe tbody tr th:only-of-type {\n",
       "        vertical-align: middle;\n",
       "    }\n",
       "\n",
       "    .dataframe tbody tr th {\n",
       "        vertical-align: top;\n",
       "    }\n",
       "\n",
       "    .dataframe thead th {\n",
       "        text-align: right;\n",
       "    }\n",
       "</style>\n",
       "<table border=\"1\" class=\"dataframe\">\n",
       "  <thead>\n",
       "    <tr style=\"text-align: right;\">\n",
       "      <th></th>\n",
       "      <th>RND</th>\n",
       "      <th>Y_intercept</th>\n",
       "      <th>slop</th>\n",
       "      <th>pred_PROFIT</th>\n",
       "      <th>Actual_PROFIT</th>\n",
       "    </tr>\n",
       "  </thead>\n",
       "  <tbody>\n",
       "    <tr>\n",
       "      <th>32</th>\n",
       "      <td>63408.86</td>\n",
       "      <td>48948.409956</td>\n",
       "      <td>0.862532</td>\n",
       "      <td>103640.597259</td>\n",
       "      <td>97427.84</td>\n",
       "    </tr>\n",
       "    <tr>\n",
       "      <th>4</th>\n",
       "      <td>142107.34</td>\n",
       "      <td>48948.409956</td>\n",
       "      <td>0.862532</td>\n",
       "      <td>171520.575050</td>\n",
       "      <td>166187.94</td>\n",
       "    </tr>\n",
       "    <tr>\n",
       "      <th>5</th>\n",
       "      <td>131876.90</td>\n",
       "      <td>48948.409956</td>\n",
       "      <td>0.862532</td>\n",
       "      <td>162696.490519</td>\n",
       "      <td>156991.12</td>\n",
       "    </tr>\n",
       "    <tr>\n",
       "      <th>31</th>\n",
       "      <td>61136.38</td>\n",
       "      <td>48948.409956</td>\n",
       "      <td>0.862532</td>\n",
       "      <td>101680.509949</td>\n",
       "      <td>97483.56</td>\n",
       "    </tr>\n",
       "    <tr>\n",
       "      <th>2</th>\n",
       "      <td>153441.51</td>\n",
       "      <td>48948.409956</td>\n",
       "      <td>0.862532</td>\n",
       "      <td>181296.662313</td>\n",
       "      <td>191050.39</td>\n",
       "    </tr>\n",
       "    <tr>\n",
       "      <th>30</th>\n",
       "      <td>61994.48</td>\n",
       "      <td>48948.409956</td>\n",
       "      <td>0.862532</td>\n",
       "      <td>102420.648881</td>\n",
       "      <td>99937.59</td>\n",
       "    </tr>\n",
       "    <tr>\n",
       "      <th>0</th>\n",
       "      <td>165349.20</td>\n",
       "      <td>48948.409956</td>\n",
       "      <td>0.862532</td>\n",
       "      <td>191567.429077</td>\n",
       "      <td>192261.83</td>\n",
       "    </tr>\n",
       "    <tr>\n",
       "      <th>14</th>\n",
       "      <td>119943.24</td>\n",
       "      <td>48948.409956</td>\n",
       "      <td>0.862532</td>\n",
       "      <td>152403.323793</td>\n",
       "      <td>132602.65</td>\n",
       "    </tr>\n",
       "    <tr>\n",
       "      <th>19</th>\n",
       "      <td>86419.70</td>\n",
       "      <td>48948.409956</td>\n",
       "      <td>0.862532</td>\n",
       "      <td>123488.189082</td>\n",
       "      <td>122776.86</td>\n",
       "    </tr>\n",
       "    <tr>\n",
       "      <th>35</th>\n",
       "      <td>46014.02</td>\n",
       "      <td>48948.409956</td>\n",
       "      <td>0.862532</td>\n",
       "      <td>88636.986606</td>\n",
       "      <td>96479.51</td>\n",
       "    </tr>\n",
       "  </tbody>\n",
       "</table>\n",
       "</div>"
      ],
      "text/plain": [
       "          RND   Y_intercept      slop    pred_PROFIT  Actual_PROFIT\n",
       "32   63408.86  48948.409956  0.862532  103640.597259       97427.84\n",
       "4   142107.34  48948.409956  0.862532  171520.575050      166187.94\n",
       "5   131876.90  48948.409956  0.862532  162696.490519      156991.12\n",
       "31   61136.38  48948.409956  0.862532  101680.509949       97483.56\n",
       "2   153441.51  48948.409956  0.862532  181296.662313      191050.39\n",
       "30   61994.48  48948.409956  0.862532  102420.648881       99937.59\n",
       "0   165349.20  48948.409956  0.862532  191567.429077      192261.83\n",
       "14  119943.24  48948.409956  0.862532  152403.323793      132602.65\n",
       "19   86419.70  48948.409956  0.862532  123488.189082      122776.86\n",
       "35   46014.02  48948.409956  0.862532   88636.986606       96479.51"
      ]
     },
     "execution_count": 63,
     "metadata": {},
     "output_type": "execute_result"
    }
   ],
   "source": [
    "testdata"
   ]
  },
  {
   "cell_type": "markdown",
   "id": "240c0502",
   "metadata": {},
   "source": [
    "# calculate error "
   ]
  },
  {
   "cell_type": "code",
   "execution_count": 65,
   "id": "2bd98a85",
   "metadata": {},
   "outputs": [],
   "source": [
    "testdata[\"Error\"]=testdata.Actual_PROFIT-testdata.pred_PROFIT"
   ]
  },
  {
   "cell_type": "code",
   "execution_count": 66,
   "id": "224bff0c",
   "metadata": {},
   "outputs": [],
   "source": [
    "from numpy import abs\n",
    "\n",
    "\n",
    "testdata[[\"Absolute\"]]=abs(testdata.Error)"
   ]
  },
  {
   "cell_type": "code",
   "execution_count": 67,
   "id": "150c7732",
   "metadata": {
    "scrolled": true
   },
   "outputs": [
    {
     "data": {
      "text/html": [
       "<div>\n",
       "<style scoped>\n",
       "    .dataframe tbody tr th:only-of-type {\n",
       "        vertical-align: middle;\n",
       "    }\n",
       "\n",
       "    .dataframe tbody tr th {\n",
       "        vertical-align: top;\n",
       "    }\n",
       "\n",
       "    .dataframe thead th {\n",
       "        text-align: right;\n",
       "    }\n",
       "</style>\n",
       "<table border=\"1\" class=\"dataframe\">\n",
       "  <thead>\n",
       "    <tr style=\"text-align: right;\">\n",
       "      <th></th>\n",
       "      <th>RND</th>\n",
       "      <th>Y_intercept</th>\n",
       "      <th>slop</th>\n",
       "      <th>Actual_PROFIT</th>\n",
       "      <th>pred_PROFIT</th>\n",
       "      <th>Error</th>\n",
       "      <th>Absolute</th>\n",
       "    </tr>\n",
       "  </thead>\n",
       "  <tbody>\n",
       "    <tr>\n",
       "      <th>32</th>\n",
       "      <td>63408.86</td>\n",
       "      <td>48948.409956</td>\n",
       "      <td>0.862532</td>\n",
       "      <td>97427.84</td>\n",
       "      <td>103640.597259</td>\n",
       "      <td>-6212.757259</td>\n",
       "      <td>6212.757259</td>\n",
       "    </tr>\n",
       "    <tr>\n",
       "      <th>4</th>\n",
       "      <td>142107.34</td>\n",
       "      <td>48948.409956</td>\n",
       "      <td>0.862532</td>\n",
       "      <td>166187.94</td>\n",
       "      <td>171520.575050</td>\n",
       "      <td>-5332.635050</td>\n",
       "      <td>5332.635050</td>\n",
       "    </tr>\n",
       "    <tr>\n",
       "      <th>5</th>\n",
       "      <td>131876.90</td>\n",
       "      <td>48948.409956</td>\n",
       "      <td>0.862532</td>\n",
       "      <td>156991.12</td>\n",
       "      <td>162696.490519</td>\n",
       "      <td>-5705.370519</td>\n",
       "      <td>5705.370519</td>\n",
       "    </tr>\n",
       "    <tr>\n",
       "      <th>31</th>\n",
       "      <td>61136.38</td>\n",
       "      <td>48948.409956</td>\n",
       "      <td>0.862532</td>\n",
       "      <td>97483.56</td>\n",
       "      <td>101680.509949</td>\n",
       "      <td>-4196.949949</td>\n",
       "      <td>4196.949949</td>\n",
       "    </tr>\n",
       "    <tr>\n",
       "      <th>2</th>\n",
       "      <td>153441.51</td>\n",
       "      <td>48948.409956</td>\n",
       "      <td>0.862532</td>\n",
       "      <td>191050.39</td>\n",
       "      <td>181296.662313</td>\n",
       "      <td>9753.727687</td>\n",
       "      <td>9753.727687</td>\n",
       "    </tr>\n",
       "    <tr>\n",
       "      <th>30</th>\n",
       "      <td>61994.48</td>\n",
       "      <td>48948.409956</td>\n",
       "      <td>0.862532</td>\n",
       "      <td>99937.59</td>\n",
       "      <td>102420.648881</td>\n",
       "      <td>-2483.058881</td>\n",
       "      <td>2483.058881</td>\n",
       "    </tr>\n",
       "    <tr>\n",
       "      <th>0</th>\n",
       "      <td>165349.20</td>\n",
       "      <td>48948.409956</td>\n",
       "      <td>0.862532</td>\n",
       "      <td>192261.83</td>\n",
       "      <td>191567.429077</td>\n",
       "      <td>694.400923</td>\n",
       "      <td>694.400923</td>\n",
       "    </tr>\n",
       "    <tr>\n",
       "      <th>14</th>\n",
       "      <td>119943.24</td>\n",
       "      <td>48948.409956</td>\n",
       "      <td>0.862532</td>\n",
       "      <td>132602.65</td>\n",
       "      <td>152403.323793</td>\n",
       "      <td>-19800.673793</td>\n",
       "      <td>19800.673793</td>\n",
       "    </tr>\n",
       "    <tr>\n",
       "      <th>19</th>\n",
       "      <td>86419.70</td>\n",
       "      <td>48948.409956</td>\n",
       "      <td>0.862532</td>\n",
       "      <td>122776.86</td>\n",
       "      <td>123488.189082</td>\n",
       "      <td>-711.329082</td>\n",
       "      <td>711.329082</td>\n",
       "    </tr>\n",
       "    <tr>\n",
       "      <th>35</th>\n",
       "      <td>46014.02</td>\n",
       "      <td>48948.409956</td>\n",
       "      <td>0.862532</td>\n",
       "      <td>96479.51</td>\n",
       "      <td>88636.986606</td>\n",
       "      <td>7842.523394</td>\n",
       "      <td>7842.523394</td>\n",
       "    </tr>\n",
       "  </tbody>\n",
       "</table>\n",
       "</div>"
      ],
      "text/plain": [
       "          RND   Y_intercept      slop  Actual_PROFIT    pred_PROFIT  \\\n",
       "32   63408.86  48948.409956  0.862532       97427.84  103640.597259   \n",
       "4   142107.34  48948.409956  0.862532      166187.94  171520.575050   \n",
       "5   131876.90  48948.409956  0.862532      156991.12  162696.490519   \n",
       "31   61136.38  48948.409956  0.862532       97483.56  101680.509949   \n",
       "2   153441.51  48948.409956  0.862532      191050.39  181296.662313   \n",
       "30   61994.48  48948.409956  0.862532       99937.59  102420.648881   \n",
       "0   165349.20  48948.409956  0.862532      192261.83  191567.429077   \n",
       "14  119943.24  48948.409956  0.862532      132602.65  152403.323793   \n",
       "19   86419.70  48948.409956  0.862532      122776.86  123488.189082   \n",
       "35   46014.02  48948.409956  0.862532       96479.51   88636.986606   \n",
       "\n",
       "           Error      Absolute  \n",
       "32  -6212.757259   6212.757259  \n",
       "4   -5332.635050   5332.635050  \n",
       "5   -5705.370519   5705.370519  \n",
       "31  -4196.949949   4196.949949  \n",
       "2    9753.727687   9753.727687  \n",
       "30  -2483.058881   2483.058881  \n",
       "0     694.400923    694.400923  \n",
       "14 -19800.673793  19800.673793  \n",
       "19   -711.329082    711.329082  \n",
       "35   7842.523394   7842.523394  "
      ]
     },
     "execution_count": 67,
     "metadata": {},
     "output_type": "execute_result"
    }
   ],
   "source": [
    "testdata"
   ]
  },
  {
   "cell_type": "markdown",
   "id": "8d6d3434",
   "metadata": {},
   "source": [
    "# plot the regression results"
   ]
  },
  {
   "cell_type": "code",
   "execution_count": 68,
   "id": "3a0e96a8",
   "metadata": {},
   "outputs": [
    {
     "data": {
      "text/plain": [
       "Text(0.5, 1.0, 'RND vs PROFT regression line')"
      ]
     },
     "execution_count": 68,
     "metadata": {},
     "output_type": "execute_result"
    },
    {
     "data": {
      "image/png": "[encoded data removed]",
      "text/plain": [
       "<Figure size 432x288 with 1 Axes>"
      ]
     },
     "metadata": {
      "needs_background": "light"
     },
     "output_type": "display_data"
    }
   ],
   "source": [
    "import matplotlib.pyplot as plt\n",
    "plt.scatter(xtrain,ytrain,c=\"red\")\n",
    "plt.plot(xtrain,b0+b1*xtrain,c=\"blue\")\n",
    "plt.xlabel(\"RND\")\n",
    "plt.ylabel(\"PROFIT\")\n",
    "plt.title(\"RND vs PROFT regression line\")"
   ]
  },
  {
   "cell_type": "code",
   "execution_count": null,
   "id": "ca20f19f",
   "metadata": {},
   "outputs": [],
   "source": []
  },
  {
   "cell_type": "code",
   "execution_count": null,
   "id": "40e082ac",
   "metadata": {},
   "outputs": [],
   "source": []
  },
  {
   "cell_type": "code",
   "execution_count": null,
   "id": "fc25feb4",
   "metadata": {},
   "outputs": [],
   "source": []
  },
  {
   "cell_type": "markdown",
   "id": "9f706248",
   "metadata": {},
   "source": [
    "# 2.Multiple linear regression"
   ]
  },
  {
   "cell_type": "markdown",
   "id": "3679b921",
   "metadata": {},
   "source": [
    "forward selection Regression model"
   ]
  },
  {
   "cell_type": "code",
   "execution_count": 11,
   "id": "d6176f43",
   "metadata": {},
   "outputs": [
    {
     "name": "stdout",
     "output_type": "stream",
     "text": [
      "MAE: 5837.75\n",
      "AdjRsqured: 0.96\n"
     ]
    }
   ],
   "source": [
    "Y=A[[\"PROFIT\"]]\n",
    "X=A[[\"RND\",\"MKT\"]]\n",
    "\n",
    "from sklearn.model_selection import train_test_split\n",
    "xtrain,xtest,ytrain,ytest=train_test_split(X,Y,test_size=0.2,random_state=31)\n",
    "\n",
    "from sklearn.linear_model import LinearRegression\n",
    "lm=LinearRegression()\n",
    "model=lm.fit(xtrain,ytrain)\n",
    "pred=model.predict(xtest)\n",
    "\n",
    "from sklearn.metrics import mean_absolute_error,explained_variance_score\n",
    "print(\"MAE:\",round(mean_absolute_error(ytest,pred),2))\n",
    "print(\"AdjRsqured:\",round(explained_variance_score(ytest,pred),2))"
   ]
  },
  {
   "cell_type": "code",
   "execution_count": null,
   "id": "6491566b",
   "metadata": {},
   "outputs": [],
   "source": []
  },
  {
   "cell_type": "code",
   "execution_count": 69,
   "id": "39a98f31",
   "metadata": {},
   "outputs": [
    {
     "name": "stdout",
     "output_type": "stream",
     "text": [
      "MAE: 5784.32\n",
      "AdjRsqured: 0.96\n"
     ]
    }
   ],
   "source": [
    "Y=A[[\"PROFIT\"]]\n",
    "X=A[[\"RND\",\"MKT\",\"ADMIN\"]]\n",
    "\n",
    "from sklearn.model_selection import train_test_split\n",
    "xtrain,xtest,ytrain,ytest=train_test_split(X,Y,test_size=0.2,random_state=31)\n",
    "\n",
    "from sklearn.linear_model import LinearRegression\n",
    "lm=LinearRegression()\n",
    "model=lm.fit(xtrain,ytrain)\n",
    "pred=model.predict(xtest)\n",
    "\n",
    "from sklearn.metrics import mean_absolute_error,explained_variance_score\n",
    "print(\"MAE:\",round(mean_absolute_error(ytest,pred),2))\n",
    "print(\"AdjRsqured:\",round(explained_variance_score(ytest,pred),2))"
   ]
  },
  {
   "cell_type": "code",
   "execution_count": null,
   "id": "1e7f4562",
   "metadata": {},
   "outputs": [],
   "source": []
  }
 ],
 "metadata": {
  "kernelspec": {
   "display_name": "Python 3",
   "language": "python",
   "name": "python3"
  },
  "language_info": {
   "codemirror_mode": {
    "name": "ipython",
    "version": 3
   },
   "file_extension": ".py",
   "mimetype": "text/x-python",
   "name": "python",
   "nbconvert_exporter": "python",
   "pygments_lexer": "ipython3",
   "version": "3.8.8"
  }
 },
 "nbformat": 4,
 "nbformat_minor": 5
}
